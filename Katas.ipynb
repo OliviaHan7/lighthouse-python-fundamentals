{
 "cells": [
  {
   "cell_type": "markdown",
   "id": "822a352e",
   "metadata": {},
   "source": [
    "### Kata1 - Sum the largest Numbers"
   ]
  },
  {
   "cell_type": "code",
   "execution_count": 3,
   "id": "a8d13c2d",
   "metadata": {},
   "outputs": [
    {
     "name": "stdout",
     "output_type": "stream",
     "text": [
      "11\n",
      "5\n",
      "126\n"
     ]
    }
   ],
   "source": [
    "def sumLargestNumbers(arr):\n",
    "    # Put your solution here\n",
    "    arr.sort(reverse = True)\n",
    "    return arr[0]+arr[1]\n",
    "\n",
    "print(sumLargestNumbers([1, 10]))\n",
    "print(sumLargestNumbers([1, 2, 3]))\n",
    "print(sumLargestNumbers([10, 4, 34, 6, 92, 2]))"
   ]
  },
  {
   "cell_type": "code",
   "execution_count": 6,
   "id": "c859c447",
   "metadata": {},
   "outputs": [
    {
     "name": "stdout",
     "output_type": "stream",
     "text": [
      "11\n",
      "5\n",
      "94\n"
     ]
    }
   ],
   "source": [
    "def sumLargestNumbers(arr):\n",
    "    highest =0\n",
    "    second =0\n",
    "    for i in arr:\n",
    "        if i > second:\n",
    "            if i> highest:\n",
    "                second = highest\n",
    "                highest = i\n",
    "            else:\n",
    "                continue\n",
    "        else:\n",
    "            second = i\n",
    "    return highest + second\n",
    "\n",
    "print(sumLargestNumbers([1, 10]))\n",
    "print(sumLargestNumbers([1, 2, 3]))\n",
    "print(sumLargestNumbers([10, 4, 34, 6, 92, 2]))"
   ]
  },
  {
   "cell_type": "markdown",
   "id": "3eb02d65",
   "metadata": {},
   "source": [
    "### Kata2 - conditional sums"
   ]
  },
  {
   "cell_type": "code",
   "execution_count": 7,
   "id": "fec59806",
   "metadata": {},
   "outputs": [
    {
     "name": "stdout",
     "output_type": "stream",
     "text": [
      "6\n",
      "9\n",
      "144\n",
      "0\n"
     ]
    }
   ],
   "source": [
    "def conditionalSum(values, condition):\n",
    "    # Your code here\n",
    "    sum = 0\n",
    "    for i in values:\n",
    "        if condition == \"even\" and (i%2 ==0):\n",
    "            sum+=i\n",
    "        elif condition == \"odd\" and (i%2 !=0):\n",
    "            sum+=i\n",
    "    return sum\n",
    "    \n",
    "\n",
    "\n",
    "print(conditionalSum([1, 2, 3, 4, 5], \"even\"))\n",
    "print(conditionalSum([1, 2, 3, 4, 5], \"odd\"))\n",
    "print(conditionalSum([13, 88, 12, 44, 99], \"even\"))\n",
    "print(conditionalSum([], \"odd\"))"
   ]
  },
  {
   "cell_type": "markdown",
   "id": "3f35a616",
   "metadata": {},
   "source": [
    "### Kata3 - Vowels"
   ]
  },
  {
   "cell_type": "code",
   "execution_count": 8,
   "id": "96d7c10c",
   "metadata": {},
   "outputs": [
    {
     "name": "stdout",
     "output_type": "stream",
     "text": [
      "3\n",
      "5\n",
      "5\n"
     ]
    }
   ],
   "source": [
    "def numberOfVowels(data):\n",
    "    # Put your solution here\n",
    "    sum =0\n",
    "    for i in data:\n",
    "        if i in 'AEIOUaeiou':\n",
    "            sum+=1\n",
    "    return sum\n",
    "\n",
    "\n",
    "print(numberOfVowels(\"orange\"))\n",
    "print(numberOfVowels(\"lighthouse labs\"))\n",
    "print(numberOfVowels(\"aeiou\"))"
   ]
  },
  {
   "cell_type": "markdown",
   "id": "0e33c3ee",
   "metadata": {},
   "source": [
    "### Kata4 - Instructor Names"
   ]
  },
  {
   "cell_type": "code",
   "execution_count": 18,
   "id": "dfef70f5",
   "metadata": {},
   "outputs": [
    {
     "name": "stdout",
     "output_type": "stream",
     "text": [
      "{'name': 'Jeremiah', 'course': 'Data'}\n"
     ]
    }
   ],
   "source": [
    "def instructorWithLongestName(instructors):\n",
    "    # Put your solution here\n",
    "    name_len = 0\n",
    "    index = 0\n",
    "    for i,names in  enumerate(instructors):\n",
    "        if len(names['name'])> name_len:\n",
    "            name_len = len(names['name'])\n",
    "            index = i\n",
    "    return instructors[index]\n",
    "\n",
    "print(instructorWithLongestName([\n",
    "  {\"name\": \"Samuel\", \"course\": \"iOS\"},\n",
    "  {\"name\": \"Jeremiah\", \"course\": \"Data\"},\n",
    "  {\"name\": \"Ophilia\", \"course\": \"Web\"},\n",
    "  {\"name\": \"Donald\", \"course\": \"Web\"}\n",
    "]))\n",
    "# print(instructorWithLongestName([\n",
    "#   {\"name\": \"Matthew\", \"course\": \"Data\"},\n",
    "#   {\"name\": \"David\", \"course\": \"iOS\"},\n",
    "#   {\"name\": \"Domascus\", \"course\": \"Web\"}\n",
    "# ]))"
   ]
  },
  {
   "cell_type": "code",
   "execution_count": 25,
   "id": "05916b20",
   "metadata": {},
   "outputs": [
    {
     "data": {
      "text/plain": [
       "['Lighthouse', 'Labs']"
      ]
     },
     "execution_count": 25,
     "metadata": {},
     "output_type": "execute_result"
    }
   ],
   "source": [
    "a=\"Lighthouse Labs\"\n",
    "a.split()"
   ]
  },
  {
   "cell_type": "markdown",
   "id": "37cdb280",
   "metadata": {},
   "source": [
    "### Kata5 - Percent Encoded String"
   ]
  },
  {
   "cell_type": "code",
   "execution_count": 38,
   "id": "f753832d",
   "metadata": {},
   "outputs": [
    {
     "name": "stdout",
     "output_type": "stream",
     "text": [
      "Lighthouse%20Labs\n",
      "%20Lighthouse%20Labs%20%20\n",
      "blue%20is%20greener%20than%20purple%20for%20sure\n"
     ]
    }
   ],
   "source": [
    "def urlEncode(text):\n",
    "    # Put your solution here\n",
    "    \n",
    "#     a ='%20'.join(text.split())\n",
    "#     return a\n",
    "\n",
    "#using loop\n",
    "    arr =\"\"\n",
    "    for i in range(len(text)):\n",
    "        if text[i] == ' ':\n",
    "            arr = arr+'%20'\n",
    "        else:\n",
    "            arr = arr + text[i]\n",
    "    return str(arr)\n",
    "            \n",
    "\n",
    "print(urlEncode(\"Lighthouse Labs\"))\n",
    "print(urlEncode(\" Lighthouse Labs  \"))\n",
    "print(urlEncode(\"blue is greener than purple for sure\"))"
   ]
  },
  {
   "cell_type": "markdown",
   "id": "98ec9f79",
   "metadata": {},
   "source": [
    "### Kata6 - SmartParking"
   ]
  },
  {
   "cell_type": "code",
   "execution_count": 51,
   "id": "2968dacc",
   "metadata": {},
   "outputs": [
    {
     "name": "stdout",
     "output_type": "stream",
     "text": [
      "[4, 0]\n",
      "False\n",
      "[3, 1]\n"
     ]
    }
   ],
   "source": [
    "def whereCanIPark(spots, vehicle):\n",
    "    # Code here!\n",
    "    #R--R ; S--RS; M--RSM\n",
    "    for y, rows in enumerate(spots):\n",
    "        for x, columns in enumerate(rows):\n",
    "            if vehicle == 'regular':\n",
    "                if columns=='R' and columns in rows:\n",
    "                    return [x,y]\n",
    "            elif vehicle == 'small':\n",
    "                if columns in 'RS' and columns in rows:\n",
    "                    return [x,y]\n",
    "            elif vehicle == 'motorcycle':\n",
    "                if columns in 'RSM' and columns in rows:\n",
    "                    return [x,y]\n",
    "    return False\n",
    "            \n",
    "print(whereCanIPark(\n",
    "  [\n",
    "    # COLUMNS ARE X\n",
    "    # 0    1    2    3    4    5\n",
    "    ['s', 's', 's', 'S', 'R', 'M'], # 0 ROWS ARE Y\n",
    "    ['s', 'M', 's', 'S', 'r', 'M'], # 1\n",
    "    ['s', 'M', 's', 'S', 'r', 'm'], # 2\n",
    "    ['S', 'r', 's', 'm', 'r', 'M'], # 3\n",
    "    ['S', 'r', 's', 'm', 'r', 'M'], # 4\n",
    "    ['S', 'r', 'S', 'M', 'M', 'S']  # 5\n",
    "  ],\n",
    "  'regular'\n",
    "))            \n",
    "            \n",
    "print(whereCanIPark(\n",
    "  [\n",
    "    ['M', 'M', 'M', 'M'],\n",
    "    ['M', 's', 'M', 'M'],\n",
    "    ['M', 'M', 'M', 'M'],\n",
    "    ['M', 'M', 'r', 'M']\n",
    "  ],\n",
    "  'small'\n",
    "))\n",
    "\n",
    "print(whereCanIPark(\n",
    "  [\n",
    "    ['s', 's', 's', 's', 's', 's'],\n",
    "    ['s', 'm', 's', 'S', 'r', 's'],\n",
    "    ['s', 'm', 's', 'S', 'r', 's'],\n",
    "    ['S', 'r', 's', 'm', 'r', 's'],\n",
    "    ['S', 'r', 's', 'm', 'R', 's'],\n",
    "    ['S', 'r', 'S', 'M', 'm', 'S']\n",
    "  ],\n",
    "  'motorcycle'\n",
    "))"
   ]
  },
  {
   "cell_type": "markdown",
   "id": "428a295f",
   "metadata": {},
   "source": [
    "### Kata7 - In the Air Tonight"
   ]
  },
  {
   "cell_type": "code",
   "execution_count": 55,
   "id": "6ee8c156",
   "metadata": {},
   "outputs": [
    {
     "name": "stdout",
     "output_type": "stream",
     "text": [
      "Polluted\n",
      "Polluted\n",
      "Clean\n"
     ]
    }
   ],
   "source": [
    "def checkAir(samples, threshold):\n",
    "    # Code here!\n",
    "    count_clean =0\n",
    "    count_dirty =0\n",
    "    for i in samples:\n",
    "        if i == 'dirty':\n",
    "            count_dirty +=1\n",
    "\n",
    "    if (count_dirty/len(samples)) > threshold:\n",
    "        return \"Polluted\"\n",
    "    else:\n",
    "        return \"Clean\"\n",
    "    \n",
    "print(checkAir(\n",
    "  ['clean', 'clean', 'dirty', 'clean', 'dirty', 'clean', 'clean', 'dirty', 'clean', 'dirty'],\n",
    "  0.3\n",
    "))\n",
    "print(checkAir(\n",
    "  ['dirty', 'dirty', 'dirty', 'dirty', 'clean'],\n",
    "  0.25\n",
    "))\n",
    "\n",
    "print(checkAir(\n",
    "  ['clean', 'dirty', 'clean', 'dirty', 'clean', 'dirty', 'clean'],\n",
    "  0.9\n",
    "))"
   ]
  },
  {
   "cell_type": "markdown",
   "id": "c8fd31eb",
   "metadata": {},
   "source": [
    "### Kata6 - Repeating Number"
   ]
  },
  {
   "cell_type": "code",
   "execution_count": 90,
   "id": "dfe2196d",
   "metadata": {},
   "outputs": [
    {
     "name": "stdout",
     "output_type": "stream",
     "text": [
      "1111111111\n",
      "11,222\n",
      "10101010,343434343434,9292\n"
     ]
    }
   ],
   "source": [
    "def repeatNumbers(data):\n",
    "    # Put your solution her\n",
    "    stri=\"\"\n",
    "    for i in range(len(data)):\n",
    "        stri+=str(data[i][0]) *  data[i][1] + \",\"\n",
    "    return stri.strip(\",\")\n",
    "\n",
    "\n",
    "print(repeatNumbers([[1, 10]]))\n",
    "print(repeatNumbers([[1, 2], [2, 3]]))\n",
    "print(repeatNumbers([[10, 4], [34, 6], [92, 2]]))"
   ]
  },
  {
   "cell_type": "markdown",
   "id": "5cf0207b",
   "metadata": {},
   "source": [
    "### Kata7- Case Maker"
   ]
  },
  {
   "cell_type": "code",
   "execution_count": 118,
   "id": "d795129e",
   "metadata": {},
   "outputs": [
    {
     "name": "stdout",
     "output_type": "stream",
     "text": [
      "thisIsAString\n",
      "loopyLighthouse\n",
      "supercalifragalisticexpialidocious\n"
     ]
    }
   ],
   "source": [
    "def camelCase(input):\n",
    "    # Your code here\n",
    "    new = input.split()\n",
    "    for i in range(1,len(new)):\n",
    "        new[i] = new[i].capitalize()\n",
    "    return \"\".join(new)\n",
    "print(camelCase(\"this is a string\"))\n",
    "print(camelCase(\"loopy lighthouse\"))\n",
    "print(camelCase(\"supercalifragalisticexpialidocious\"))"
   ]
  },
  {
   "cell_type": "markdown",
   "id": "66f23163",
   "metadata": {},
   "source": [
    "### Kata8 - Multiplication Table"
   ]
  },
  {
   "cell_type": "code",
   "execution_count": 200,
   "id": "d8aa5214",
   "metadata": {},
   "outputs": [
    {
     "name": "stdout",
     "output_type": "stream",
     "text": [
      "1\n",
      "1 2 3 4 5\n",
      "2 4 6 8 10\n",
      "3 6 9 12 15\n",
      "4 8 12 16 20\n",
      "5 10 15 20 25\n",
      "1 2 3 4 5 6 7 8 9 10\n",
      "2 4 6 8 10 12 14 16 18 20\n",
      "3 6 9 12 15 18 21 24 27 30\n",
      "4 8 12 16 20 24 28 32 36 40\n",
      "5 10 15 20 25 30 35 40 45 50\n",
      "6 12 18 24 30 36 42 48 54 60\n",
      "7 14 21 28 35 42 49 56 63 70\n",
      "8 16 24 32 40 48 56 64 72 80\n",
      "9 18 27 36 45 54 63 72 81 90\n",
      "10 20 30 40 50 60 70 80 90 100\n"
     ]
    }
   ],
   "source": [
    "def multiplicationTable(maxValue):\n",
    "    # Your code here\n",
    "    \n",
    "    lst =[]\n",
    "    for i in range(1, maxValue+1):\n",
    "        tmp = [str(i*j) for j in range(1,maxValue+1)]\n",
    "        lst.append(' '.join(tmp))\n",
    "    return '\\n'.join(lst)\n",
    "\n",
    "\n",
    "\n",
    "\n",
    "print(multiplicationTable(1))\n",
    "print(multiplicationTable(5))\n",
    "print(multiplicationTable(10))\n"
   ]
  },
  {
   "cell_type": "code",
   "execution_count": null,
   "id": "1b291a1f",
   "metadata": {},
   "outputs": [],
   "source": []
  },
  {
   "cell_type": "code",
   "execution_count": null,
   "id": "db23f560",
   "metadata": {},
   "outputs": [],
   "source": []
  }
 ],
 "metadata": {
  "kernelspec": {
   "display_name": "Python 3 (ipykernel)",
   "language": "python",
   "name": "python3"
  },
  "language_info": {
   "codemirror_mode": {
    "name": "ipython",
    "version": 3
   },
   "file_extension": ".py",
   "mimetype": "text/x-python",
   "name": "python",
   "nbconvert_exporter": "python",
   "pygments_lexer": "ipython3",
   "version": "3.9.7"
  }
 },
 "nbformat": 4,
 "nbformat_minor": 5
}
